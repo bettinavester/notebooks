{
 "cells": [
  {
   "cell_type": "markdown",
   "metadata": {},
   "source": [
    "# Python: Regular Expressions"
   ]
  },
  {
   "attachments": {},
   "cell_type": "markdown",
   "metadata": {},
   "source": [
    "Regular expressions are primarily used for searching for specific data in a text or data file. The below table provides a quick overview of the most used expressions:\n",
    "![Table](regex.png) \n",
    "\n",
    "**TIPS:** \n",
    "\n",
    "Always use raw strings for regular expressions in Python, by adding an 'r' before the string (r\"ciao\")\n",
    "\n",
    "The $ to indicate end of line should be inserted after the last character in the regex\n",
    "\n",
    "#### The \\\n",
    "Using \\ allows you to use the actual character in your search, not its regex meaning (\\. let's you serach for a dot)\n",
    "\n",
    "Using \\w let's you search for alphanumeric characters\n",
    "\n",
    "Using \\d for digits\n",
    "\n",
    "Using \\b for word boundaries\n",
    "\n",
    "Using /S+ (any non-blank characters) at the beginning an end, allows you to search for words. \n",
    "\n",
    "More information:\n",
    "\n",
    "#### [Cheat Sheet](https://cheatography.com/davechild/cheat-sheets/regular-expressions/pdf/)\n",
    "\n",
    "#### http://www.regex101.com\n",
    "(Allows you to test your regex and debug any problems)\n"
   ]
  },
  {
   "cell_type": "code",
   "execution_count": null,
   "metadata": {},
   "outputs": [],
   "source": [
    "#You must first import this library into python using \n",
    "import re\n",
    "\n",
    "#You can then use re.search(r‘search word’, where-to-search) to see if a string matches a regular expressions (regex) \n",
    "result = re.search(r'aza','bazaar')\n",
    "#the function will return the first match and its position as attriubutes to the result object (span=(1,4), match='aza')\n",
    "\n",
    "#to ignore case\n",
    "result = re.search(r'aza','BAzaar', re.IGNORECASE)\n",
    "\n",
    "#looking for lines starting with From:\n",
    "if re.search(’^From:’, line) \n",
    "\n",
    "#and re.findall() to find all portions of a string that matches your regex.\n",
    "y = re.findall(‘[0-9]=’,x) # returns all numbers in the string x\n",
    "\n",
    "#By adding an extra parenthesis in your search statement, you can define what part of your results, you’d like to extract.\n",
    "Y = re.findall(‘From (/S+@/S+)’,x)"
   ]
  },
  {
   "cell_type": "markdown",
   "metadata": {},
   "source": [
    "#### Character classes\n",
    "\n",
    "You can specify a class of characters to search for by adding them in [] "
   ]
  },
  {
   "cell_type": "code",
   "execution_count": null,
   "metadata": {},
   "outputs": [],
   "source": [
    "import re\n",
    "\n",
    "x = re.search(r'[Bb]e',\"Ciao Bella, bella donna\")\n",
    "\n",
    "#You can also add a range inside the brackets (like [a-zA-Z]).\n",
    "y = re.search(r'[a-cA-C]e',\"Ciao Bella, bella donna\")\n",
    "\n",
    "#You can also characters to avoid using [^abc]\n",
    "z = re.search(r'[^B]a',\"Ciao Bella, bella donna\")\n",
    "\n",
    "#The | (pipe) symbol allows us to make an either-or\n",
    "a = re.findall(r'cat|dog',\"I like my dog\")\n",
    "\n",
    "print(a)"
   ]
  },
  {
   "cell_type": "markdown",
   "metadata": {},
   "source": [
    "#### Repetition qualifiers and greedy behavior\n",
    "Adding a * means repeting character zero or more times (adding + means one or more times)"
   ]
  },
  {
   "cell_type": "code",
   "execution_count": null,
   "metadata": {},
   "outputs": [],
   "source": [
    "import re\n",
    "\n",
    "z = re.search(r'C.*a',\"Ciao Bella, bella donna\")\n",
    "#This returns the whole sentence, because it's greedy!\n",
    "print(z)\n",
    "\n",
    "w = re.search(r'C.*?a',\"Ciao Bella, bella donna\")\n",
    "#This returns just cia, because it's non-greedy!\n",
    "print(w)\n",
    "\n",
    "#To just find 5-10 letter words;\n",
    "v = re.findall(r'\\b[A-Za-z]{5,10}\\b',\"Ciao Bella, bella donna\")\n",
    "print(v)"
   ]
  },
  {
   "cell_type": "markdown",
   "metadata": {},
   "source": [
    "#### Storing and using results"
   ]
  },
  {
   "cell_type": "code",
   "execution_count": null,
   "metadata": {},
   "outputs": [],
   "source": [
    "import re\n",
    "\n",
    "#The re.search returns a Match object. If you have identified return values in your search using the parenthesis, \n",
    "# the first item in the returned object is the full match, then comes the first parentheses, the second, etc. Example:\n",
    "result=re.search(r\"^(\\w*), (\\w*)$\",\"LoveLace, Ada\")\n",
    "print(result[0],\"\\n\",result[1],'\\n',result[2])"
   ]
  },
  {
   "cell_type": "markdown",
   "metadata": {},
   "source": [
    "#### Splitting and replacing\n",
    "The re.split function can use Regex to split up a string"
   ]
  },
  {
   "cell_type": "code",
   "execution_count": null,
   "metadata": {},
   "outputs": [],
   "source": [
    "import re\n",
    "\n",
    "result = re.split(r\"[.,!?]\",\"This is a test without punctuation in the result. Did you know?\")\n",
    "print(result)\n",
    "\n",
    "result = re.split(r\"[.,!?]\",\"This is a test. Did you know?\")\n",
    "print(result)\n",
    "\n",
    "#You can replace things with the re.sub function (\\2 indicating the second captured group, etc.)\n",
    "re.sub(r\"^(\\w*), (\\w*)$\",r\"\\2 \\1\",\"LoveLace, Ada\")"
   ]
  },
  {
   "cell_type": "markdown",
   "metadata": {},
   "source": [
    "#### Examples of REGEX in action\n",
    "\n",
    "- to validate whether a text string is a valid variable\n",
    "- to validate whether a string is a valid websitelink\n",
    "- to find matches independent of case and punctuation\n",
    "- to find a list of matches"
   ]
  },
  {
   "cell_type": "markdown",
   "metadata": {},
   "source": [
    "#### Example of validating a top-level website address:"
   ]
  },
  {
   "cell_type": "code",
   "execution_count": null,
   "metadata": {},
   "outputs": [],
   "source": [
    "import re\n",
    "def check_web_address(text):\n",
    "  pattern = r\"^[A-Za-z0-9_-]+\\.[A-Za-z0-9\\._-]+$\"\n",
    "  result = re.search(pattern, text)\n",
    "  return result != None\n",
    "\n",
    "print(check_web_address(\"gmail.com\")) # True\n",
    "print(check_web_address(\"www@google\")) # False\n",
    "print(check_web_address(\"www.Coursera.org\")) # True\n",
    "print(check_web_address(\"web-address.com/homepage\")) # False\n",
    "print(check_web_address(\"My_Favorite-Blog.US\")) # True"
   ]
  },
  {
   "cell_type": "markdown",
   "metadata": {},
   "source": [
    "#### Example of validating time"
   ]
  },
  {
   "cell_type": "code",
   "execution_count": null,
   "metadata": {},
   "outputs": [],
   "source": [
    "import re\n",
    "def check_time(text):\n",
    "  pattern = r\"^[1-9]+:[0-9][0-9]\\s*AM|PM$\"\n",
    "  result = re.search(pattern, text, re.IGNORECASE)\n",
    "  return result != None\n",
    "\n",
    "print(check_time(\"12:45pm\")) # True\n",
    "print(check_time(\"9:59 AM\")) # True\n",
    "print(check_time(\"6:60am\")) # True\n",
    "print(check_time(\"five o'clock\")) # False"
   ]
  }
 ],
 "metadata": {
  "kernelspec": {
   "display_name": "Python 3",
   "language": "python",
   "name": "python3"
  },
  "language_info": {
   "codemirror_mode": {
    "name": "ipython",
    "version": 3
   },
   "file_extension": ".py",
   "mimetype": "text/x-python",
   "name": "python",
   "nbconvert_exporter": "python",
   "pygments_lexer": "ipython3",
   "version": "3.8.2"
  }
 },
 "nbformat": 4,
 "nbformat_minor": 4
}
