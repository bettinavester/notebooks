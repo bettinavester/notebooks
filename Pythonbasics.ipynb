{
 "cells": [
  {
   "cell_type": "markdown",
   "metadata": {},
   "source": [
    "# Python basics"
   ]
  },
  {
   "cell_type": "markdown",
   "metadata": {},
   "source": [
    "This is my personal notebook for Python fundamentals - how to run scripts, import and open files, do basic stuff. "
   ]
  },
  {
   "cell_type": "markdown",
   "metadata": {},
   "source": [
    "## Using the terminal\n",
    "OBS: I have a mac, so most of these will probably only work on a mac terminal. The syntax is slightly different for Linux or Windows."
   ]
  },
  {
   "cell_type": "markdown",
   "metadata": {},
   "source": [
    "#### Basic commands"
   ]
  },
  {
   "cell_type": "code",
   "execution_count": null,
   "metadata": {},
   "outputs": [],
   "source": [
    "#Go to desktop:\n",
    "cd desktop \n",
    "#Go to folder:\n",
    "cd code\n",
    "#Go back a folder:\n",
    "cd ...\n",
    "# show file contents but don't run script\n",
    "cat hello.py\n",
    "# show folder contents:\n",
    "ls -l\n",
    "#check Python version\n",
    "python --version\n",
    "#Run a python script:\n",
    "python3 hello.py\n",
    "#Open python script in Atom:\n",
    "open hello.py -a atom\n",
    "\n",
    "#search for something in a text\n",
    "grep searchitem file.txt"
   ]
  },
  {
   "cell_type": "markdown",
   "metadata": {},
   "source": [
    "#### Allowing a script to execute files by using a shebang"
   ]
  },
  {
   "cell_type": "code",
   "execution_count": null,
   "metadata": {},
   "outputs": [],
   "source": [
    "#Allow a file to execute in terminal:\n",
    "chmod +x hello.py\n",
    "#Insert following shebang into python file (including #):\n",
    "#!/usr/bin/env python3\n",
    "#Run file (./ means current directory):\n",
    "./hello.py"
   ]
  },
  {
   "cell_type": "markdown",
   "metadata": {},
   "source": [
    "#### Install packages with a package manager"
   ]
  },
  {
   "cell_type": "code",
   "execution_count": null,
   "metadata": {},
   "outputs": [],
   "source": [
    "#In the terminal:\n",
    "pip install xxx\n",
    "#or\n",
    "conda install xxx"
   ]
  },
  {
   "cell_type": "markdown",
   "metadata": {},
   "source": [
    "#### Open Jupyter Notebook"
   ]
  },
  {
   "cell_type": "code",
   "execution_count": null,
   "metadata": {},
   "outputs": [],
   "source": [
    "#Go to the terminal and type\n",
    "jupyter notebook\n",
    "#OBS: you need to be in the right directory with your Jupyter files"
   ]
  },
  {
   "cell_type": "markdown",
   "metadata": {},
   "source": [
    "## Accessing stuff with Python"
   ]
  },
  {
   "cell_type": "markdown",
   "metadata": {},
   "source": [
    "#### Creating and importing modules"
   ]
  },
  {
   "cell_type": "code",
   "execution_count": null,
   "metadata": {},
   "outputs": [],
   "source": [
    "#To import a python module/library which is either installed in your Python libraries \n",
    "#or located in the same directory as your file, just use:\n",
    "import libraryname\n",
    "#if you want a shorter name to call the module, you just add 'as':\n",
    "import libraryname as lib\n",
    "#if you need to access a library located somewhere else, use:\n",
    "from lib import libraryname"
   ]
  },
  {
   "cell_type": "markdown",
   "metadata": {},
   "source": [
    "#### Opening and reading files.\n",
    "\n",
    "Be aware that default opening mode is 'r' (read-only). While 'w' is for write only, 'a' can be used for append (at the end of the existing file) and 'r+' means read and write. 'x' is for exclusive creation, failing if the file already exists.\n"
   ]
  },
  {
   "cell_type": "code",
   "execution_count": null,
   "metadata": {},
   "outputs": [],
   "source": [
    "# Open a .txt file in a subfolder called 'lib':\n",
    "file = open('lib/filename.txt')\n",
    "#Close the file\n",
    "file.close()\n",
    "#Using a 'with' block will automatically close the file when done with the block (if file is only used here):\n",
    "with open('filename.txt') as file:\n",
    "    print(file.read()     \n",
    "          \n",
    "#Read the entire or rest of the file (output is a string) -- good for smaller files\n",
    "file.read()\n",
    "# Read the next line in the file (output is a string) -- good for large files\n",
    "file.readline()\n",
    "#Read all the lines (output is a list) -- again, good for smaller files\n",
    "file.readlines()         \n",
    "#Getting rid of the extra line breaks (/n): When reading or printing the file, use\n",
    "file = open('news.txt')\n",
    "x = file.readlines()\n",
    "for line in x:\n",
    "    print(line.strip())"
   ]
  },
  {
   "cell_type": "markdown",
   "metadata": {},
   "source": [
    "#### Writing and editing files. "
   ]
  },
  {
   "cell_type": "code",
   "execution_count": null,
   "metadata": {},
   "outputs": [],
   "source": [
    "#To open a file with permission to write in it - OBS - be aware that this will delete any existing content in the file. :\n",
    "file = open('filename.txt','w')\n",
    "#To write in w, a or r+ mode (Python will return the number of characters written at the end of execution)\n",
    "file.write('Hey there')"
   ]
  },
  {
   "cell_type": "markdown",
   "metadata": {},
   "source": [
    "#### Other file operations\n",
    "\n",
    "To do other file operations, you need to import the os library first. "
   ]
  },
  {
   "cell_type": "code",
   "execution_count": null,
   "metadata": {},
   "outputs": [],
   "source": [
    "import os\n",
    "#remove (delete) file\n",
    "os.remove('filename.txt')\n",
    "#rename file\n",
    "os.rename('oldname.txt','newname.txt')"
   ]
  },
  {
   "cell_type": "markdown",
   "metadata": {},
   "source": [
    "#### File information\n",
    "the os.path module contains functions to get information about files"
   ]
  },
  {
   "cell_type": "code",
   "execution_count": null,
   "metadata": {},
   "outputs": [],
   "source": [
    "#Checks whether a file exists (true/false)\n",
    "os.path.exists('filename.txt')\n",
    "#Retrieves size of file\n",
    "os.path.getsize('filename.txt')\n",
    "#Retrieves file last modification time\n",
    "x=os.path.getmtime('filename.txt') \n",
    "    #this returns a timecode. To get it into a more readable format use following code\n",
    "    import datetime\n",
    "    datetime.datetime.fromtimestamp(x)"
   ]
  },
  {
   "cell_type": "markdown",
   "metadata": {},
   "source": [
    "#### Directories\n",
    "(Directories are basically computer language for folders)."
   ]
  },
  {
   "cell_type": "code",
   "execution_count": null,
   "metadata": {},
   "outputs": [],
   "source": [
    "#You still need the OS module\n",
    "import os\n",
    "\n",
    "#Constructs an absolute path directory for a file in the current directory\n",
    "os.path.abspath('filename.txt')\n",
    "\n",
    "#Retrieves the current directory\n",
    "os.getcwd()\n",
    "#Creates a new directory\n",
    "os.mkdir(\"New_name\")\n",
    "#Change a directory (position)\n",
    "os.chdir('name')\n",
    "#Remove directory (only works when it's empty)\n",
    "os.rmdir('name') \n",
    "\n",
    "#Retrieves content in a directory\n",
    "os.listdir('name')\n",
    "#Creates a directory path string with the directory of the folder plus the file name (joining marker depend on OS)\n",
    "os.path.join(dir,filename)\n",
    "#Checks whether an item is a directory\n",
    "os.path.isdir(directory path)"
   ]
  },
  {
   "cell_type": "markdown",
   "metadata": {},
   "source": [
    "#### CSV files\n",
    "\n",
    "Fileformat storing data as comma-separated values (each line being a data record). Excel can also export and import .csv"
   ]
  },
  {
   "cell_type": "code",
   "execution_count": null,
   "metadata": {},
   "outputs": [],
   "source": [
    "#import the CSV-module\n",
    "import csv\n",
    "\n",
    "#open the file by creating a handle and read the data\n",
    "f = open('data.csv')\n",
    "csvf = csv.reader(f)\n",
    "for row in csvf: #this will read the datafile line by line (datarecord by datarecord)\n",
    "    var1, var2, var3 = row #we store the entries per line in a list (remember that # variables must equal # entries)\n",
    "f.close()\n",
    "#OBS I would assume this line of code works to create a list for each row, but haven't tested it:\n",
    "for row in csvf:\n",
    "    listvar = row.split(',')\n",
    "    \n",
    "#Writing to a CSV file\n",
    "listvar = [[1,2,3,4],[11,12,13,14]]\n",
    "with open('listvar.csv','w') as file:\n",
    "    writer = csv.writer(file)\n",
    "    writer.writerows(listvar)  #you could also use writerow() to do this line by line\n",
    "\n",
    "#You can also access a CSV file with headers in the first row with Dictreader, creating a dictionary for each row \n",
    "#with the header as key and the data entry as the value. Now, the orders doesn't matter.\n",
    "with open('listvar.csv') as file:\n",
    "    reader = csv.DictReader(file)\n",
    "    \n",
    "#You can also create a CSV file from a list of dictionaries:\n",
    "dictlist = [{\"name\":\"Bettina\",\"Age\":31},{\"name\":\"Andrea\",\"Age\":32}]\n",
    "keys = [\"name\",\"Age\"]\n",
    "with open('listvar.csv','w') as dictlist:\n",
    "    writer = csv.DictWriter(file, fieldname=keys)\n",
    "    writer.writeheader()\n",
    "    writer.writerows(dictlist)"
   ]
  },
  {
   "cell_type": "markdown",
   "metadata": {},
   "source": [
    "Create a new file with some text and return the filesize"
   ]
  },
  {
   "cell_type": "code",
   "execution_count": null,
   "metadata": {},
   "outputs": [],
   "source": [
    "import os\n",
    "\n",
    "def create_python_script(filename):\n",
    "  comments = \"# Start of a new Python program\"\n",
    "  with open(filename,\"w\") as file:\n",
    "    file.write(comments)\n",
    "  filesize = os.path.getsize(filename)\n",
    "  return(filesize)\n",
    "\n",
    "print(create_python_script(\"program.py\"))"
   ]
  },
  {
   "cell_type": "markdown",
   "metadata": {},
   "source": [
    "Create a new directory and a new file and return the list of files in the new directory"
   ]
  },
  {
   "cell_type": "code",
   "execution_count": null,
   "metadata": {},
   "outputs": [],
   "source": [
    "import os\n",
    "\n",
    "def new_directory(directory, filename):\n",
    "  if not os.path.exists(directory):\n",
    "    os.mkdir(directory)\n",
    "  os.chdir(directory)\n",
    "  file = open(filename,'w')\n",
    "  file.write(\"Hi\")\n",
    "  file.close\n",
    "  return os.listdir(\"../\"+directory)\n",
    "\n",
    "print(new_directory(\"PythonPrograms\", \"script.py\"))"
   ]
  },
  {
   "cell_type": "markdown",
   "metadata": {},
   "source": [
    "## A few tips for writing less code"
   ]
  },
  {
   "cell_type": "markdown",
   "metadata": {},
   "source": [
    "### Formatting\n",
    "To create a string consisting of different types of objects, you can use the .format method. this also allows you to specify e.g. the decimals of a floating number."
   ]
  },
  {
   "cell_type": "code",
   "execution_count": null,
   "metadata": {},
   "outputs": [],
   "source": [
    "print(\"We have {} cats and a temperature of {:.2F} at home\".format(cats,degrees))"
   ]
  },
  {
   "cell_type": "markdown",
   "metadata": {},
   "source": [
    "### List comprehension\n",
    "List comprehensions allow you to create a new list from a sequence or a range in a single line. For example, [ x*2 for x in range(1,11) ] is a simple list comprehension. This would iterate over the range 1 to 10, and multiply each element in the range by 2. This would result in a list of the multiples of 2, from 2 to 20. You can also use conditionals with list comprehensions to build even more complex and powerful statements. You can do this by appending an if statement to the end of the comprehension. For example"
   ]
  },
  {
   "cell_type": "code",
   "execution_count": null,
   "metadata": {},
   "outputs": [],
   "source": [
    "[ x for x in range(1,101) if x % 10 == 0 ]"
   ]
  }
 ],
 "metadata": {
  "kernelspec": {
   "display_name": "Python 3",
   "language": "python",
   "name": "python3"
  },
  "language_info": {
   "codemirror_mode": {
    "name": "ipython",
    "version": 3
   },
   "file_extension": ".py",
   "mimetype": "text/x-python",
   "name": "python",
   "nbconvert_exporter": "python",
   "pygments_lexer": "ipython3",
   "version": "3.8.2"
  }
 },
 "nbformat": 4,
 "nbformat_minor": 4
}
